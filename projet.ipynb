{
 "cells": [
  {
   "cell_type": "markdown",
   "metadata": {},
   "source": [
    "## Projet réseau de transport"
   ]
  },
  {
   "cell_type": "markdown",
   "metadata": {},
   "source": [
    "#### tableau d'adjacence\n",
    "\n",
    "\n",
    "|Sommet|sommet adjacents|\n",
    "|-----|-----|\n",
    "|Lyon       |Toulouse|\n",
    "|Paris      |Lyon,Bordeaux,Toulouse|\n",
    "|Bordeaux   |Paris,S3|\n",
    "|Toulouse   |Marseille|\n",
    "|Marseille  |Bordeaux|\n",
    "|Rennes     |Lille, Paris |\n",
    "|Lille      |Rennes   |"
   ]
  },
  {
   "cell_type": "markdown",
   "metadata": {},
   "source": [
    "#### Matrice d'adjacence\n",
    "\n",
    "$X = \\begin{bmatrix}\n",
    "0 & 2 & 0 & 1 & 0 & 0 & 1\\\\\n",
    "0 & 0 & 3 & 0 & 0 & 4 & 0\\\\\n",
    "0 & 3 & 0 & 0 & 2 & 0 & 0\\\\\n",
    "2 & 4 & 0 & 0 & 0 & 0 & 0\\\\\n",
    "0 & 0 & 0 & 1 & 0 & 0 & 0\\\\\n",
    "0 & 0 & 0 & 0 & 0 & 0 & 2\\\\\n",
    "0 & 0 & 0 & 0 & 0 & 2 & 0\n",
    "\\end{bmatrix}$"
   ]
  },
  {
   "cell_type": "code",
   "execution_count": 1,
   "metadata": {},
   "outputs": [],
   "source": [
    "from libGraph import matrix_to_graph, Graph, Node\n",
    "import numpy as np\n",
    "from ipywidgets import Dropdown, interactive_output, VBox"
   ]
  },
  {
   "cell_type": "code",
   "execution_count": 2,
   "metadata": {},
   "outputs": [
    {
     "data": {
      "image/svg+xml": "<svg xmlns=\"http://www.w3.org/2000/svg\" xmlns:xlink=\"http://www.w3.org/1999/xlink\" width=\"134pt\" height=\"131pt\" viewBox=\"0.00 0.00 134.00 131.00\">\n<g id=\"graph0\" class=\"graph\" transform=\"scale(1 1) rotate(0) translate(4 127)\">\n<title>graphic</title>\n<polygon fill=\"white\" stroke=\"transparent\" points=\"-4,4 -4,-127 130,-127 130,4 -4,4\"/>\n<!-- A -->\n<g id=\"node1\" class=\"node\">\n<title>A</title>\n<ellipse fill=\"none\" stroke=\"black\" cx=\"27\" cy=\"-105\" rx=\"27\" ry=\"18\"/>\n<text text-anchor=\"middle\" x=\"27\" y=\"-101.3\" font-family=\"Times,serif\" font-size=\"14.00\">A</text>\n</g>\n<!-- B -->\n<g id=\"node2\" class=\"node\">\n<title>B</title>\n<ellipse fill=\"none\" stroke=\"black\" cx=\"57\" cy=\"-18\" rx=\"27\" ry=\"18\"/>\n<text text-anchor=\"middle\" x=\"57\" y=\"-14.3\" font-family=\"Times,serif\" font-size=\"14.00\">B</text>\n</g>\n<!-- A&#45;&gt;B -->\n<g id=\"edge1\" class=\"edge\">\n<title>A-&gt;B</title>\n<path fill=\"none\" stroke=\"black\" d=\"M25.57,-86.82C25.34,-76.92 26.09,-64.42 30,-54 31.62,-49.68 33.97,-45.46 36.61,-41.53\"/>\n<polygon fill=\"black\" stroke=\"black\" points=\"39.47,-43.55 42.71,-33.46 33.89,-39.33 39.47,-43.55\"/>\n<text text-anchor=\"middle\" x=\"33.5\" y=\"-57.8\" font-family=\"Times,serif\" font-size=\"14.00\">1</text>\n</g>\n<!-- B&#45;&gt;A -->\n<g id=\"edge2\" class=\"edge\">\n<title>B-&gt;A</title>\n<path fill=\"none\" stroke=\"black\" d=\"M51.09,-35.76C46.9,-47.62 41.19,-63.79 36.39,-77.4\"/>\n<polygon fill=\"black\" stroke=\"black\" points=\"32.95,-76.61 32.93,-87.21 39.56,-78.94 32.95,-76.61\"/>\n<text text-anchor=\"middle\" x=\"46.5\" y=\"-57.8\" font-family=\"Times,serif\" font-size=\"14.00\">1</text>\n</g>\n<!-- C -->\n<g id=\"node3\" class=\"node\">\n<title>C</title>\n<ellipse fill=\"none\" stroke=\"black\" cx=\"99\" cy=\"-105\" rx=\"27\" ry=\"18\"/>\n<text text-anchor=\"middle\" x=\"99\" y=\"-101.3\" font-family=\"Times,serif\" font-size=\"14.00\">C</text>\n</g>\n<!-- C&#45;&gt;B -->\n<g id=\"edge3\" class=\"edge\">\n<title>C-&gt;B</title>\n<path fill=\"none\" stroke=\"black\" d=\"M90.9,-87.61C84.86,-75.38 76.49,-58.44 69.58,-44.46\"/>\n<polygon fill=\"black\" stroke=\"black\" points=\"72.64,-42.75 65.07,-35.34 66.37,-45.85 72.64,-42.75\"/>\n<text text-anchor=\"middle\" x=\"83.5\" y=\"-57.8\" font-family=\"Times,serif\" font-size=\"14.00\">1</text>\n</g>\n</g>\n</svg>",
      "text/plain": [
       "<IPython.core.display.SVG object>"
      ]
     },
     "execution_count": 2,
     "metadata": {},
     "output_type": "execute_result"
    }
   ],
   "source": [
    "# Test simple graph\n",
    "test1 = np.array([\n",
    "    # A B\n",
    "    [0, 1, 0],\n",
    "    [1, 0, 1],\n",
    "    [0, 0, 0]\n",
    "])\n",
    "\n",
    "graph1 = matrix_to_graph(test1, [\"A\", \"B\", \"C\"])\n",
    "\n",
    "graph1.show()"
   ]
  },
  {
   "cell_type": "code",
   "execution_count": 3,
   "metadata": {},
   "outputs": [
    {
     "data": {
      "image/svg+xml": "<svg xmlns=\"http://www.w3.org/2000/svg\" xmlns:xlink=\"http://www.w3.org/1999/xlink\" width=\"277pt\" height=\"392pt\" viewBox=\"0.00 0.00 277.14 392.00\">\n<g id=\"graph0\" class=\"graph\" transform=\"scale(1 1) rotate(0) translate(4 388)\">\n<title>graphic</title>\n<polygon fill=\"white\" stroke=\"transparent\" points=\"-4,4 -4,-388 273.14,-388 273.14,4 -4,4\"/>\n<!-- Lyon -->\n<g id=\"node1\" class=\"node\">\n<title>Lyon</title>\n<ellipse fill=\"none\" stroke=\"black\" cx=\"122.85\" cy=\"-366\" rx=\"28.7\" ry=\"18\"/>\n<text text-anchor=\"middle\" x=\"122.85\" y=\"-362.3\" font-family=\"Times,serif\" font-size=\"14.00\">Lyon</text>\n</g>\n<!-- Toulouse -->\n<g id=\"node2\" class=\"node\">\n<title>Toulouse</title>\n<ellipse fill=\"none\" stroke=\"black\" cx=\"92.85\" cy=\"-279\" rx=\"42.79\" ry=\"18\"/>\n<text text-anchor=\"middle\" x=\"92.85\" y=\"-275.3\" font-family=\"Times,serif\" font-size=\"14.00\">Toulouse</text>\n</g>\n<!-- Lyon&#45;&gt;Toulouse -->\n<g id=\"edge1\" class=\"edge\">\n<title>Lyon-&gt;Toulouse</title>\n<path fill=\"none\" stroke=\"black\" d=\"M108.27,-350.2C103.44,-344.38 98.59,-337.33 95.85,-330 93.19,-322.92 91.99,-314.87 91.57,-307.34\"/>\n<polygon fill=\"black\" stroke=\"black\" points=\"95.07,-307.13 91.42,-297.18 88.07,-307.23 95.07,-307.13\"/>\n<text text-anchor=\"middle\" x=\"99.35\" y=\"-318.8\" font-family=\"Times,serif\" font-size=\"14.00\">2</text>\n</g>\n<!-- Toulouse&#45;&gt;Lyon -->\n<g id=\"edge2\" class=\"edge\">\n<title>Toulouse-&gt;Lyon</title>\n<path fill=\"none\" stroke=\"black\" d=\"M98.86,-297.05C103.05,-308.91 108.71,-324.95 113.48,-338.47\"/>\n<polygon fill=\"black\" stroke=\"black\" points=\"110.29,-339.94 116.92,-348.21 116.89,-337.61 110.29,-339.94\"/>\n<text text-anchor=\"middle\" x=\"113.35\" y=\"-318.8\" font-family=\"Times,serif\" font-size=\"14.00\">1</text>\n</g>\n<!-- Marseille -->\n<g id=\"node3\" class=\"node\">\n<title>Marseille</title>\n<ellipse fill=\"none\" stroke=\"black\" cx=\"45.85\" cy=\"-192\" rx=\"44.39\" ry=\"18\"/>\n<text text-anchor=\"middle\" x=\"45.85\" y=\"-188.3\" font-family=\"Times,serif\" font-size=\"14.00\">Marseille</text>\n</g>\n<!-- Toulouse&#45;&gt;Marseille -->\n<g id=\"edge3\" class=\"edge\">\n<title>Toulouse-&gt;Marseille</title>\n<path fill=\"none\" stroke=\"black\" d=\"M83.56,-261.21C76.87,-249.1 67.71,-232.53 60.09,-218.76\"/>\n<polygon fill=\"black\" stroke=\"black\" points=\"63.01,-216.82 55.11,-209.76 56.89,-220.2 63.01,-216.82\"/>\n<text text-anchor=\"middle\" x=\"76.35\" y=\"-231.8\" font-family=\"Times,serif\" font-size=\"14.00\">1</text>\n</g>\n<!-- Bordeaux -->\n<g id=\"node4\" class=\"node\">\n<title>Bordeaux</title>\n<ellipse fill=\"none\" stroke=\"black\" cx=\"44.85\" cy=\"-105\" rx=\"44.69\" ry=\"18\"/>\n<text text-anchor=\"middle\" x=\"44.85\" y=\"-101.3\" font-family=\"Times,serif\" font-size=\"14.00\">Bordeaux</text>\n</g>\n<!-- Marseille&#45;&gt;Bordeaux -->\n<g id=\"edge4\" class=\"edge\">\n<title>Marseille-&gt;Bordeaux</title>\n<path fill=\"none\" stroke=\"black\" d=\"M45.64,-173.8C45.51,-162.16 45.32,-146.55 45.17,-133.24\"/>\n<polygon fill=\"black\" stroke=\"black\" points=\"48.67,-133.13 45.05,-123.18 41.67,-133.22 48.67,-133.13\"/>\n<text text-anchor=\"middle\" x=\"49.35\" y=\"-144.8\" font-family=\"Times,serif\" font-size=\"14.00\">2</text>\n</g>\n<!-- Paris -->\n<g id=\"node5\" class=\"node\">\n<title>Paris</title>\n<ellipse fill=\"none\" stroke=\"black\" cx=\"117.85\" cy=\"-18\" rx=\"28.7\" ry=\"18\"/>\n<text text-anchor=\"middle\" x=\"117.85\" y=\"-14.3\" font-family=\"Times,serif\" font-size=\"14.00\">Paris</text>\n</g>\n<!-- Bordeaux&#45;&gt;Paris -->\n<g id=\"edge5\" class=\"edge\">\n<title>Bordeaux-&gt;Paris</title>\n<path fill=\"none\" stroke=\"black\" d=\"M47.66,-86.85C50.05,-76.48 54.33,-63.49 61.85,-54 68.24,-45.93 77.04,-39.21 85.77,-33.9\"/>\n<polygon fill=\"black\" stroke=\"black\" points=\"87.73,-36.81 94.74,-28.86 84.3,-30.7 87.73,-36.81\"/>\n<text text-anchor=\"middle\" x=\"65.35\" y=\"-57.8\" font-family=\"Times,serif\" font-size=\"14.00\">3</text>\n</g>\n<!-- Paris&#45;&gt;Lyon -->\n<g id=\"edge6\" class=\"edge\">\n<title>Paris-&gt;Lyon</title>\n<path fill=\"none\" stroke=\"black\" d=\"M131.9,-33.97C145.43,-50 163.85,-76.82 163.85,-104 163.85,-280 163.85,-280 163.85,-280 163.85,-302.39 152.16,-325.11 141.26,-341.41\"/>\n<polygon fill=\"black\" stroke=\"black\" points=\"138.27,-339.58 135.37,-349.77 143.99,-343.61 138.27,-339.58\"/>\n<text text-anchor=\"middle\" x=\"167.35\" y=\"-188.3\" font-family=\"Times,serif\" font-size=\"14.00\">2</text>\n</g>\n<!-- Paris&#45;&gt;Toulouse -->\n<g id=\"edge8\" class=\"edge\">\n<title>Paris-&gt;Toulouse</title>\n<path fill=\"none\" stroke=\"black\" d=\"M116.2,-36.06C111.96,-80.03 100.61,-197.54 95.46,-250.93\"/>\n<polygon fill=\"black\" stroke=\"black\" points=\"91.96,-250.72 94.49,-261.01 98.93,-251.39 91.96,-250.72\"/>\n<text text-anchor=\"middle\" x=\"110.35\" y=\"-144.8\" font-family=\"Times,serif\" font-size=\"14.00\">4</text>\n</g>\n<!-- Paris&#45;&gt;Bordeaux -->\n<g id=\"edge7\" class=\"edge\">\n<title>Paris-&gt;Bordeaux</title>\n<path fill=\"none\" stroke=\"black\" d=\"M104.8,-34.2C93.9,-46.88 78.17,-65.2 65.56,-79.88\"/>\n<polygon fill=\"black\" stroke=\"black\" points=\"62.78,-77.74 58.92,-87.61 68.09,-82.31 62.78,-77.74\"/>\n<text text-anchor=\"middle\" x=\"89.35\" y=\"-57.8\" font-family=\"Times,serif\" font-size=\"14.00\">3</text>\n</g>\n<!-- Rennes -->\n<g id=\"node6\" class=\"node\">\n<title>Rennes</title>\n<ellipse fill=\"none\" stroke=\"black\" cx=\"227.85\" cy=\"-105\" rx=\"36.29\" ry=\"18\"/>\n<text text-anchor=\"middle\" x=\"227.85\" y=\"-101.3\" font-family=\"Times,serif\" font-size=\"14.00\">Rennes</text>\n</g>\n<!-- Rennes&#45;&gt;Paris -->\n<g id=\"edge9\" class=\"edge\">\n<title>Rennes-&gt;Paris</title>\n<path fill=\"none\" stroke=\"black\" d=\"M212.83,-88.24C202.61,-77.92 188.51,-64.46 174.85,-54 166.34,-47.49 156.56,-41.12 147.54,-35.65\"/>\n<polygon fill=\"black\" stroke=\"black\" points=\"149.22,-32.58 138.83,-30.49 145.65,-38.6 149.22,-32.58\"/>\n<text text-anchor=\"middle\" x=\"194.35\" y=\"-57.8\" font-family=\"Times,serif\" font-size=\"14.00\">4</text>\n</g>\n<!-- Lille -->\n<g id=\"node7\" class=\"node\">\n<title>Lille</title>\n<ellipse fill=\"none\" stroke=\"black\" cx=\"241.85\" cy=\"-18\" rx=\"27.1\" ry=\"18\"/>\n<text text-anchor=\"middle\" x=\"241.85\" y=\"-14.3\" font-family=\"Times,serif\" font-size=\"14.00\">Lille</text>\n</g>\n<!-- Rennes&#45;&gt;Lille -->\n<g id=\"edge10\" class=\"edge\">\n<title>Rennes-&gt;Lille</title>\n<path fill=\"none\" stroke=\"black\" d=\"M227.31,-86.74C227.32,-77.04 227.83,-64.76 229.85,-54 230.39,-51.1 231.12,-48.11 231.96,-45.16\"/>\n<polygon fill=\"black\" stroke=\"black\" points=\"235.35,-46.06 235.1,-35.47 228.69,-43.91 235.35,-46.06\"/>\n<text text-anchor=\"middle\" x=\"233.35\" y=\"-57.8\" font-family=\"Times,serif\" font-size=\"14.00\">2</text>\n</g>\n<!-- Lille&#45;&gt;Rennes -->\n<g id=\"edge11\" class=\"edge\">\n<title>Lille-&gt;Rennes</title>\n<path fill=\"none\" stroke=\"black\" d=\"M239.69,-36.16C238.42,-45.83 236.7,-58.11 234.85,-69 234.41,-71.57 233.93,-74.23 233.43,-76.9\"/>\n<polygon fill=\"black\" stroke=\"black\" points=\"229.95,-76.46 231.46,-86.95 236.82,-77.8 229.95,-76.46\"/>\n<text text-anchor=\"middle\" x=\"240.35\" y=\"-57.8\" font-family=\"Times,serif\" font-size=\"14.00\">2</text>\n</g>\n</g>\n</svg>",
      "text/plain": [
       "<IPython.core.display.SVG object>"
      ]
     },
     "execution_count": 3,
     "metadata": {},
     "output_type": "execute_result"
    }
   ],
   "source": [
    "# Init transport network\n",
    "data = np.array([\n",
    "       [0, 2, 0, 1, 0, 0, 0],\n",
    "       [0, 0, 3, 0, 0, 4, 0],\n",
    "       [0, 3, 0, 0, 2, 0, 0],\n",
    "       [2, 4, 0, 0, 0, 0, 0],\n",
    "       [0, 0, 0, 1, 0, 0, 0],\n",
    "       [0, 0, 0, 0, 0, 0, 2],\n",
    "       [0, 0, 0, 0, 0, 2, 0]\n",
    "])\n",
    "\n",
    "cities = [\"Lyon\", \"Paris\", \"Bordeaux\", \"Toulouse\", \"Marseille\", \"Rennes\", \"Lille\"]\n",
    "\n",
    "graph = matrix_to_graph(data, cities)\n",
    "\n",
    "graph.show()"
   ]
  },
  {
   "cell_type": "code",
   "execution_count": 4,
   "metadata": {},
   "outputs": [
    {
     "name": "stdout",
     "output_type": "stream",
     "text": [
      "[[0 1 0]\n",
      " [1 0 1]\n",
      " [0 0 0]]\n"
     ]
    },
    {
     "data": {
      "image/svg+xml": "<svg xmlns=\"http://www.w3.org/2000/svg\" xmlns:xlink=\"http://www.w3.org/1999/xlink\" width=\"134pt\" height=\"131pt\" viewBox=\"0.00 0.00 134.00 131.00\">\n<g id=\"graph0\" class=\"graph\" transform=\"scale(1 1) rotate(0) translate(4 127)\">\n<title>graphic</title>\n<polygon fill=\"white\" stroke=\"transparent\" points=\"-4,4 -4,-127 130,-127 130,4 -4,4\"/>\n<!-- 0 -->\n<g id=\"node1\" class=\"node\">\n<title>0</title>\n<ellipse fill=\"none\" stroke=\"black\" cx=\"27\" cy=\"-105\" rx=\"27\" ry=\"18\"/>\n<text text-anchor=\"middle\" x=\"27\" y=\"-101.3\" font-family=\"Times,serif\" font-size=\"14.00\">0</text>\n</g>\n<!-- 1 -->\n<g id=\"node2\" class=\"node\">\n<title>1</title>\n<ellipse fill=\"none\" stroke=\"black\" cx=\"57\" cy=\"-18\" rx=\"27\" ry=\"18\"/>\n<text text-anchor=\"middle\" x=\"57\" y=\"-14.3\" font-family=\"Times,serif\" font-size=\"14.00\">1</text>\n</g>\n<!-- 0&#45;&gt;1 -->\n<g id=\"edge1\" class=\"edge\">\n<title>0-&gt;1</title>\n<path fill=\"none\" stroke=\"black\" d=\"M25.57,-86.82C25.34,-76.92 26.09,-64.42 30,-54 31.62,-49.68 33.97,-45.46 36.61,-41.53\"/>\n<polygon fill=\"black\" stroke=\"black\" points=\"39.47,-43.55 42.71,-33.46 33.89,-39.33 39.47,-43.55\"/>\n<text text-anchor=\"middle\" x=\"33.5\" y=\"-57.8\" font-family=\"Times,serif\" font-size=\"14.00\">1</text>\n</g>\n<!-- 1&#45;&gt;0 -->\n<g id=\"edge2\" class=\"edge\">\n<title>1-&gt;0</title>\n<path fill=\"none\" stroke=\"black\" d=\"M51.09,-35.76C46.9,-47.62 41.19,-63.79 36.39,-77.4\"/>\n<polygon fill=\"black\" stroke=\"black\" points=\"32.95,-76.61 32.93,-87.21 39.56,-78.94 32.95,-76.61\"/>\n<text text-anchor=\"middle\" x=\"46.5\" y=\"-57.8\" font-family=\"Times,serif\" font-size=\"14.00\">1</text>\n</g>\n<!-- 2 -->\n<g id=\"node3\" class=\"node\">\n<title>2</title>\n<ellipse fill=\"none\" stroke=\"black\" cx=\"99\" cy=\"-105\" rx=\"27\" ry=\"18\"/>\n<text text-anchor=\"middle\" x=\"99\" y=\"-101.3\" font-family=\"Times,serif\" font-size=\"14.00\">2</text>\n</g>\n<!-- 2&#45;&gt;1 -->\n<g id=\"edge3\" class=\"edge\">\n<title>2-&gt;1</title>\n<path fill=\"none\" stroke=\"black\" d=\"M90.9,-87.61C84.86,-75.38 76.49,-58.44 69.58,-44.46\"/>\n<polygon fill=\"black\" stroke=\"black\" points=\"72.64,-42.75 65.07,-35.34 66.37,-45.85 72.64,-42.75\"/>\n<text text-anchor=\"middle\" x=\"83.5\" y=\"-57.8\" font-family=\"Times,serif\" font-size=\"14.00\">1</text>\n</g>\n</g>\n</svg>",
      "text/plain": [
       "<IPython.core.display.SVG object>"
      ]
     },
     "execution_count": 4,
     "metadata": {},
     "output_type": "execute_result"
    }
   ],
   "source": [
    "# Reverse matrix from graph\n",
    "mx = graph1.matrix_from_graph()\n",
    "print(mx)\n",
    "\n",
    "new_graph = matrix_to_graph(mx)\n",
    "\n",
    "new_graph.show()"
   ]
  },
  {
   "cell_type": "code",
   "execution_count": 5,
   "metadata": {},
   "outputs": [],
   "source": [
    "def form_itinary(callback: callable, locations: list):\n",
    "    if len(locations) <= 1:\n",
    "        print('Need more than one location')\n",
    "        return\n",
    "\n",
    "    src = Dropdown(options=locations, value=locations[0], description='Choix du départ:')\n",
    "\n",
    "    dest = Dropdown(options=locations, value=locations[0], description='Choix de la destination:')\n",
    "\n",
    "    def show(src, dest):\n",
    "        if src == dest:\n",
    "            return\n",
    "\n",
    "        src, dest = (graph.get_by_tag(src), graph.get_by_tag(dest))\n",
    "\n",
    "        if not src.is_reachable(dest):\n",
    "            print('No path available')\n",
    "            return\n",
    "\n",
    "        print(callback(src, dest))\n",
    "\n",
    "    out = interactive_output(show, {'src': src, 'dest': dest})\n",
    "\n",
    "    return VBox([VBox([src, dest]), out])\n"
   ]
  },
  {
   "cell_type": "code",
   "execution_count": 6,
   "metadata": {},
   "outputs": [
    {
     "data": {
      "application/vnd.jupyter.widget-view+json": {
       "model_id": "a26f637572c3402cae7209c074e7bdd7",
       "version_major": 2,
       "version_minor": 0
      },
      "text/plain": [
       "VBox(children=(VBox(children=(Dropdown(description='Choix du départ:', options=('Lyon', 'Paris', 'Bordeaux', '…"
      ]
     },
     "metadata": {},
     "output_type": "display_data"
    }
   ],
   "source": [
    "def deep_search_process(src: Node, dest: Node):\n",
    "\n",
    "    visited = src.deep_search(dest)\n",
    "\n",
    "    return Graph._to_tags(visited)\n",
    "\n",
    "form_itinary(deep_search_process, graph.to_tags())\n"
   ]
  },
  {
   "cell_type": "code",
   "execution_count": 7,
   "metadata": {},
   "outputs": [
    {
     "data": {
      "application/vnd.jupyter.widget-view+json": {
       "model_id": "e8255181b949417c966e03eb3edc6b44",
       "version_major": 2,
       "version_minor": 0
      },
      "text/plain": [
       "VBox(children=(VBox(children=(Dropdown(description='Choix du départ:', options=('Lyon', 'Paris', 'Bordeaux', '…"
      ]
     },
     "metadata": {},
     "output_type": "display_data"
    }
   ],
   "source": [
    "def dijkstra_process(src: Node, dest: Node):\n",
    "    path, dist = src.dijkstra(dest, graph.nodes)\n",
    "    print(\"Distance : %s\" % dist)\n",
    "\n",
    "    return Graph._to_tags(path)\n",
    "\n",
    "form_itinary(dijkstra_process, graph.to_tags())"
   ]
  }
 ],
 "metadata": {
  "interpreter": {
   "hash": "2ec4fc67a505d1028b3c3d6a066bdfe937905a5c3183d2871c69c0900ad347ee"
  },
  "kernelspec": {
   "display_name": "Python 3 (ipykernel)",
   "language": "python",
   "name": "python3"
  },
  "language_info": {
   "codemirror_mode": {
    "name": "ipython",
    "version": 3
   },
   "file_extension": ".py",
   "mimetype": "text/x-python",
   "name": "python",
   "nbconvert_exporter": "python",
   "pygments_lexer": "ipython3",
   "version": "3.9.9"
  }
 },
 "nbformat": 4,
 "nbformat_minor": 2
}
